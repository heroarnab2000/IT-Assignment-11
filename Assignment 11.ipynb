{
 "cells": [
  {
   "cell_type": "markdown",
   "metadata": {},
   "source": [
    "# Name: Arnab Das, Roll: 17, Assignment: 11"
   ]
  },
  {
   "cell_type": "code",
   "execution_count": null,
   "metadata": {},
   "outputs": [],
   "source": []
  },
  {
   "cell_type": "code",
   "execution_count": 1,
   "metadata": {},
   "outputs": [],
   "source": [
    "import datetime as dt"
   ]
  },
  {
   "cell_type": "code",
   "execution_count": 2,
   "metadata": {},
   "outputs": [],
   "source": [
    "import calendar"
   ]
  },
  {
   "cell_type": "markdown",
   "metadata": {},
   "source": [
    "#### 1) Check whether a given year is leap year or not. Provide a range of years and display how many leap years are there."
   ]
  },
  {
   "cell_type": "code",
   "execution_count": 3,
   "metadata": {},
   "outputs": [
    {
     "name": "stdout",
     "output_type": "stream",
     "text": [
      "Enter a year in numbers: 2021\n",
      "It is not a leap year.\n",
      "Enter starting year in numbers: 1990\n",
      "Enter ending year in numbers: 2012\n",
      "Total number of leap year is 6.\n"
     ]
    }
   ],
   "source": [
    "try:\n",
    "\n",
    "    year = int(input(\"Enter a year in numbers: \"))\n",
    "    \n",
    "    if(calendar.isleap(year)): print(\"It is a leap year.\")\n",
    "    else: print(\"It is not a leap year.\")\n",
    "\n",
    "    Firstyear = int(input(\"Enter starting year in numbers: \"))\n",
    "    Lastyear = int(input(\"Enter ending year in numbers: \"))\n",
    "    \n",
    "    count = 0\n",
    "    \n",
    "    for i in range (Firstyear, Lastyear + 1):\n",
    "        if(calendar.isleap(i)): count += 1\n",
    "            \n",
    "    print(f\"Total number of leap year is {count}.\")\n",
    "    \n",
    "except:\n",
    "    \n",
    "    print(\"Please enter in numbers\")"
   ]
  },
  {
   "cell_type": "code",
   "execution_count": null,
   "metadata": {},
   "outputs": [],
   "source": []
  },
  {
   "cell_type": "markdown",
   "metadata": {},
   "source": [
    "#### 2) Write a program which will print the month name and first Monday in a given year."
   ]
  },
  {
   "cell_type": "code",
   "execution_count": 4,
   "metadata": {},
   "outputs": [
    {
     "name": "stdout",
     "output_type": "stream",
     "text": [
      "Enter the year in numbers: 2021\n",
      "The occurence of first Monday of each month is as follows:\n",
      "Jan 4\n",
      "Feb 1\n",
      "Mar 1\n",
      "Apr 5\n",
      "May 3\n",
      "Jun 7\n",
      "Jul 5\n",
      "Aug 2\n",
      "Sep 6\n",
      "Oct 4\n",
      "Nov 1\n",
      "Dec 6\n"
     ]
    }
   ],
   "source": [
    "year = int(input(\"Enter the year in numbers: \"))\n",
    "monthDict={1:'Jan', 2:'Feb', 3:'Mar', 4:'Apr', 5:'May', 6:'Jun', 7:'Jul', 8:'Aug', 9:'Sep', 10:'Oct', 11:'Nov', 12:'Dec'}\n",
    "\n",
    "print(\"The occurence of first Monday of each month is as follows:\")\n",
    "\n",
    "for month in range(1, 13):\n",
    "    for days in range (1, 8):\n",
    "        if dt.datetime(year, month, days).weekday() == 0:\n",
    "            a = dt.datetime(2021, month, days)\n",
    "            print(monthDict[a.month], a.day)"
   ]
  },
  {
   "cell_type": "code",
   "execution_count": null,
   "metadata": {},
   "outputs": [],
   "source": []
  },
  {
   "cell_type": "markdown",
   "metadata": {},
   "source": [
    "#### 3) Print the current date and time in the following format.\n",
    "\n",
    "        year: 2018\n",
    "        \n",
    "        month: 12\n",
    "        \n",
    "        day: 24\n",
    "        \n",
    "        time: 04:59:31\n",
    "        \n",
    "        date and time: 12/24/2018, 04:59:31"
   ]
  },
  {
   "cell_type": "code",
   "execution_count": 6,
   "metadata": {},
   "outputs": [
    {
     "name": "stdout",
     "output_type": "stream",
     "text": [
      "Year:  2021\n",
      "Month:  01\n",
      "Day:  07\n",
      "Time:  17:03:58\n",
      "Date and time: 07/01/2021, 17:03:58\n"
     ]
    }
   ],
   "source": [
    "import time\n",
    "a = str(dt.date.today()).split('-')\n",
    "b = time.ctime().split(' ')\n",
    "d1 = dt.date.today().strftime(\"%d/%m/%Y\")\n",
    "\n",
    "print(\"Year: \", a[0])\n",
    "print(\"Month: \", a[1])\n",
    "print(\"Day: \", a[2])\n",
    "print(\"Time: \", b[4])\n",
    "print(f\"Date and time: {d1}, {b[4]}\")"
   ]
  },
  {
   "cell_type": "code",
   "execution_count": null,
   "metadata": {},
   "outputs": [],
   "source": []
  },
  {
   "cell_type": "markdown",
   "metadata": {},
   "source": [
    "#### 4) Write a Python program importing random which outputs the frequency of occurrence of each faces for rolling a dice 6000 times."
   ]
  },
  {
   "cell_type": "code",
   "execution_count": 8,
   "metadata": {},
   "outputs": [
    {
     "name": "stdout",
     "output_type": "stream",
     "text": [
      "The occurence of 1 happened for 975 times\n",
      "The occurence of 2 happened for 961 times\n",
      "The occurence of 3 happened for 1022 times\n",
      "The occurence of 4 happened for 1025 times\n",
      "The occurence of 5 happened for 989 times\n",
      "The occurence of 6 happened for 1028 times\n"
     ]
    }
   ],
   "source": [
    "import random\n",
    "def rollDie(number):\n",
    "    counts = [0] * 6\n",
    "    for i in range(number):\n",
    "        roll = random.randint(1, 6)\n",
    "        counts[roll - 1] += 1\n",
    "    return counts\n",
    "\n",
    "a = rollDie(6000)\n",
    "for i in  range (0, 6):\n",
    "    print(f\"The occurence of {i + 1} happened for {a[i]} times\")"
   ]
  },
  {
   "cell_type": "code",
   "execution_count": null,
   "metadata": {},
   "outputs": [],
   "source": []
  },
  {
   "cell_type": "code",
   "execution_count": null,
   "metadata": {},
   "outputs": [],
   "source": []
  }
 ],
 "metadata": {
  "kernelspec": {
   "display_name": "Python 3",
   "language": "python",
   "name": "python3"
  },
  "language_info": {
   "codemirror_mode": {
    "name": "ipython",
    "version": 3
   },
   "file_extension": ".py",
   "mimetype": "text/x-python",
   "name": "python",
   "nbconvert_exporter": "python",
   "pygments_lexer": "ipython3",
   "version": "3.8.3"
  }
 },
 "nbformat": 4,
 "nbformat_minor": 4
}
